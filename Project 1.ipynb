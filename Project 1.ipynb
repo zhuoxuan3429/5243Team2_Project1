{
 "cells": [
  {
   "cell_type": "code",
   "execution_count": 6,
   "id": "d117612a-e202-47bf-ae4c-ff51f5380b33",
   "metadata": {},
   "outputs": [],
   "source": [
    "# Please import all the model you would like to use\n",
    "import pandas as pd\n",
    "import numpy as np"
   ]
  },
  {
   "cell_type": "code",
   "execution_count": 2,
   "id": "64681c4d-a3f5-43b3-9fca-690e503377ec",
   "metadata": {},
   "outputs": [],
   "source": [
    "# Data Importing"
   ]
  },
  {
   "cell_type": "code",
   "execution_count": 3,
   "id": "3e773a4e-7425-4d44-a59c-b68a831f1484",
   "metadata": {},
   "outputs": [],
   "source": [
    "# Data Cleaning"
   ]
  },
  {
   "cell_type": "code",
   "execution_count": 4,
   "id": "dbb8b4b0-d6c1-4638-88e2-09117c4f2e46",
   "metadata": {},
   "outputs": [],
   "source": [
    "# Data Exploration"
   ]
  },
  {
   "cell_type": "code",
   "execution_count": 5,
   "id": "bfbbf463-507c-418e-a3f6-499978d19a2b",
   "metadata": {},
   "outputs": [],
   "source": [
    "# Data Visualization"
   ]
  },
  {
   "cell_type": "code",
   "execution_count": null,
   "id": "8ea113c0-d095-45d7-aeb6-ec9b75c9a648",
   "metadata": {},
   "outputs": [],
   "source": []
  }
 ],
 "metadata": {
  "kernelspec": {
   "display_name": "Python 3 (ipykernel)",
   "language": "python",
   "name": "python3"
  },
  "language_info": {
   "codemirror_mode": {
    "name": "ipython",
    "version": 3
   },
   "file_extension": ".py",
   "mimetype": "text/x-python",
   "name": "python",
   "nbconvert_exporter": "python",
   "pygments_lexer": "ipython3",
   "version": "3.12.2"
  }
 },
 "nbformat": 4,
 "nbformat_minor": 5
}
